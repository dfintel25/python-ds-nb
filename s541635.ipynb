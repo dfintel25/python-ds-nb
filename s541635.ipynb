{
 "cells": [
  {
   "cell_type": "markdown",
   "id": "4c4c98c0",
   "metadata": {},
   "source": [
    "### Student: Derek Fintel\n",
    "\n",
    "#### Step 10"
   ]
  },
  {
   "cell_type": "code",
   "execution_count": null,
   "id": "26325256",
   "metadata": {},
   "outputs": [
    {
     "name": "stdout",
     "output_type": "stream",
     "text": [
      "*      *\n",
      "**    **\n",
      "***  ***\n",
      "********\n"
     ]
    }
   ],
   "source": [
    "# set rows\n",
    "rows = 4\n",
    "\n",
    "# establish index and loop range\n",
    "for i in range(1, rows + 1):\n",
    "    stars = '*' * i\n",
    "    spaces = ' ' * (2 * (rows - i))\n",
    "    print(stars + spaces + stars)\n"
   ]
  },
  {
   "cell_type": "markdown",
   "id": "f8d2c3a0",
   "metadata": {},
   "source": [
    "#### **Just for fun:** \n",
    "I tinkered with base code in ChatGPT to get the output to have a gradient color."
   ]
  },
  {
   "cell_type": "code",
   "execution_count": 2,
   "id": "0787e710",
   "metadata": {},
   "outputs": [
    {
     "name": "stdout",
     "output_type": "stream",
     "text": [
      "\u001b[38;2;0;0;255m*\u001b[0m      \u001b[38;2;255;255;0m*\u001b[0m\n",
      "\u001b[38;2;0;0;255m*\u001b[0m\u001b[38;2;85;85;170m*\u001b[0m    \u001b[38;2;170;170;85m*\u001b[0m\u001b[38;2;255;255;0m*\u001b[0m\n",
      "\u001b[38;2;0;0;255m*\u001b[0m\u001b[38;2;51;51;204m*\u001b[0m\u001b[38;2;102;102;153m*\u001b[0m  \u001b[38;2;153;153;102m*\u001b[0m\u001b[38;2;204;204;51m*\u001b[0m\u001b[38;2;255;255;0m*\u001b[0m\n",
      "\u001b[38;2;0;0;255m*\u001b[0m\u001b[38;2;36;36;218m*\u001b[0m\u001b[38;2;72;72;182m*\u001b[0m\u001b[38;2;109;109;145m*\u001b[0m\u001b[38;2;145;145;109m*\u001b[0m\u001b[38;2;182;182;72m*\u001b[0m\u001b[38;2;218;218;36m*\u001b[0m\u001b[38;2;255;255;0m*\u001b[0m\n"
     ]
    }
   ],
   "source": [
    "def gradient_color(start_rgb, end_rgb, steps):\n",
    "    # Generate intermediate RGB values\n",
    "    return [\n",
    "        (\n",
    "            int(start_rgb[0] + (end_rgb[0] - start_rgb[0]) * i / (steps - 1)),\n",
    "            int(start_rgb[1] + (end_rgb[1] - start_rgb[1]) * i / (steps - 1)),\n",
    "            int(start_rgb[2] + (end_rgb[2] - start_rgb[2]) * i / (steps - 1)),\n",
    "        )\n",
    "        for i in range(steps)\n",
    "    ]\n",
    "\n",
    "def colored_star(r, g, b):\n",
    "    return f\"\\033[38;2;{r};{g};{b}m*\\033[0m\"\n",
    "\n",
    "# Settings\n",
    "rows = 4\n",
    "start_color = (0, 0, 255)      # Blue\n",
    "end_color = (255, 255, 0)      # Yellow\n",
    "\n",
    "for i in range(1, rows + 1):\n",
    "    total_stars = i * 2\n",
    "    colors = gradient_color(start_color, end_color, total_stars)\n",
    "    \n",
    "    left = ''.join(colored_star(*colors[j]) for j in range(i))\n",
    "    spaces = ' ' * (2 * (rows - i))\n",
    "    right = ''.join(colored_star(*colors[j]) for j in range(i, total_stars))\n",
    "    \n",
    "    print(left + spaces + right)\n"
   ]
  },
  {
   "cell_type": "markdown",
   "id": "dba26123",
   "metadata": {},
   "source": [
    "#### Export to HTML"
   ]
  },
  {
   "cell_type": "code",
   "execution_count": 4,
   "id": "04627fa7",
   "metadata": {},
   "outputs": [
    {
     "data": {
      "text/plain": [
       "0"
      ]
     },
     "execution_count": 4,
     "metadata": {},
     "output_type": "execute_result"
    }
   ],
   "source": [
    "import os\n",
    "os.system('jupyter nbconvert --to html python-ds.ipynb')"
   ]
  }
 ],
 "metadata": {
  "kernelspec": {
   "display_name": "Python 3",
   "language": "python",
   "name": "python3"
  },
  "language_info": {
   "codemirror_mode": {
    "name": "ipython",
    "version": 3
   },
   "file_extension": ".py",
   "mimetype": "text/x-python",
   "name": "python",
   "nbconvert_exporter": "python",
   "pygments_lexer": "ipython3",
   "version": "3.13.1"
  }
 },
 "nbformat": 4,
 "nbformat_minor": 5
}
